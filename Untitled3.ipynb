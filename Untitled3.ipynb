{
 "cells": [
  {
   "cell_type": "code",
   "execution_count": 3,
   "metadata": {},
   "outputs": [],
   "source": [
    "def resultant(b,c):\n",
    "    B=b.list()\n",
    "    C=c.list()\n",
    "    m=len(B)-1\n",
    "    n=len(C)-1\n",
    "    A=matrix(m+n,m+n)\n",
    "    for j in range(0,n):    \n",
    "        for i in range(0,m+n):\n",
    "            if (0<=i-j) and (i-j<=m):\n",
    "                A[i,j]=B[i-j]\n",
    "            else:\n",
    "                A[i,j]=0\n",
    "    for j in range(n,m+n):    \n",
    "        for i in range(0,m+n):\n",
    "            if (0<=i-j+n) and (i-j+n<=n):\n",
    "                A[i,j]=C[i-j+n]\n",
    "            else:\n",
    "                A[i,j]=0\n",
    "    return det(A)\n"
   ]
  },
  {
   "cell_type": "code",
   "execution_count": 2,
   "metadata": {},
   "outputs": [],
   "source": [
    "R.<x> = PolynomialRing(QQ)\n",
    "def fast_resultant(b,c):\n",
    "    m=b.degree()\n",
    "    n=c.degree()\n",
    "    if m<n:\n",
    "        return (-1)^(m*n)*fast_resultant(c,b)\n",
    "    if n==0:\n",
    "        if m==0:\n",
    "            return 1\n",
    "        return c(0)^m\n",
    "    lb=b.leading_coefficient()\n",
    "    lc=c.leading_coefficient()\n",
    "    B=b/lb\n",
    "    C=c/lc\n",
    "    r=B % C\n",
    "    if (r==0):\n",
    "        return 0\n",
    "    return (-1)^(m*n)*lb^n*lc^m*fast_resultant(C,r)\n"
   ]
  },
  {
   "cell_type": "code",
   "execution_count": 4,
   "metadata": {},
   "outputs": [
    {
     "name": "stdout",
     "output_type": "stream",
     "text": [
      "The built in resultant function from sage:\n",
      "4.48 ms ± 25.3 µs per loop (mean ± std. dev. of 7 runs, 100 loops each)\n",
      "Our slow resultant function:\n",
      "72.8 ms ± 171 µs per loop (mean ± std. dev. of 7 runs, 10 loops each)\n",
      "Our fast resultant function:\n",
      "53.2 ms ± 146 µs per loop (mean ± std. dev. of 7 runs, 10 loops each)\n"
     ]
    }
   ],
   "source": []
  },
  {
   "cell_type": "code",
   "execution_count": null,
   "metadata": {},
   "outputs": [],
   "source": []
  }
 ],
 "metadata": {
  "kernelspec": {
   "display_name": "SageMath 9.0",
   "language": "sage",
   "name": "sagemath"
  },
  "language_info": {
   "codemirror_mode": {
    "name": "ipython",
    "version": 3
   },
   "file_extension": ".py",
   "mimetype": "text/x-python",
   "name": "python",
   "nbconvert_exporter": "python",
   "pygments_lexer": "ipython3",
   "version": "3.8.2"
  }
 },
 "nbformat": 4,
 "nbformat_minor": 4
}
